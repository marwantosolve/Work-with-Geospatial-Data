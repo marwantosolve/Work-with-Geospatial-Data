{
  "nbformat": 4,
  "nbformat_minor": 0,
  "metadata": {
    "colab": {
      "private_outputs": true,
      "provenance": [],
      "collapsed_sections": [
        "GtAD-OT0ZVJj",
        "7aYZmgAhZg6y",
        "YT04U67JYNYw",
        "8REayR1OYQoj"
      ]
    },
    "kernelspec": {
      "name": "python3",
      "display_name": "Python 3"
    },
    "language_info": {
      "name": "python"
    }
  },
  "cells": [
    {
      "cell_type": "markdown",
      "source": [
        "# Working with Geospatial Data in Python  \n",
        "_Study Notebook for DataCamp Course_\n"
      ],
      "metadata": {
        "id": "rGXkl2-NYPpN"
      }
    },
    {
      "cell_type": "markdown",
      "source": [
        "## Restaurants in Paris\n",
        "Throughout the exercises in this course, we will work with several datasets about the city of Paris.\n",
        "\n",
        "In this exercise, we will start with exploring a dataset about the restaurants in the center of Paris (compiled from a Paris Data open dataset). The data contains the coordinates of the point locations of the restaurants and a description of the type of restaurant.\n",
        "\n",
        "We expect that you are familiar with the basics of the pandas library to work with tabular data (DataFrame objects) in Python. Here, we will use pandas to read the provided csv file, and then use matplotlib to make a visualization of the points. With matplotlib, we first create a figure and axes object with fig, ax = plt.subplots(), and then use this axes object ax to create the plot."
      ],
      "metadata": {
        "id": "GtAD-OT0ZVJj"
      }
    },
    {
      "cell_type": "code",
      "source": [
        "# Import pandas and matplotlib\n",
        "import pandas as pd\n",
        "import matplotlib.pyplot as plt\n",
        "\n",
        "# Read the restaurants csv file\n",
        "restaurants = pd.read_csv('paris_restaurants.csv')\n",
        "\n",
        "# Inspect the first rows of restaurants\n",
        "print(restaurants.head())\n",
        "\n",
        "# Make a plot of all points (assuming columns are 'longitude' and 'latitude')\n",
        "fig, ax = plt.subplots()\n",
        "ax.plot(restaurants['x'], restaurants['y'], 'o')\n",
        "plt.xlabel('Longitude')\n",
        "plt.ylabel('Latitude')\n",
        "plt.title('Restaurant Locations')\n",
        "plt.show()"
      ],
      "metadata": {
        "id": "gZnHtT0LYVHd"
      },
      "execution_count": null,
      "outputs": []
    },
    {
      "cell_type": "markdown",
      "source": [
        "## Adding a background map\n",
        "A plot with just some points can be hard to interpret without any spatial context. Therefore, in this exercise we will learn how to add a background map.\n",
        "\n",
        "We are going to make use of the contextily package. The add_basemap() function of this package makes it easy to add a background web map to our plot. We begin by plotting our data first, and then pass the matplotlib axes object to the add_basemap() function. contextily will then download the web tiles needed for the geographical extent of your plot.\n",
        "\n",
        "To set the size of the plotted points, we can use the markersize keyword of the plot() method.\n",
        "\n",
        "Pandas has been imported as pd and matplotlib's pyplot functionality as plt."
      ],
      "metadata": {
        "id": "7aYZmgAhZg6y"
      }
    },
    {
      "cell_type": "code",
      "source": [
        "# Read the restaurants csv file\n",
        "restaurants = pd.read_csv(\"paris_restaurants.csv\")\n",
        "\n",
        "# Import contextily\n",
        "import contextily\n",
        "\n",
        "# A figure of all restaurants with background\n",
        "fig, ax = plt.subplots()\n",
        "ax.plot(restaurants['x'], restaurants['y'], 'o', markersize=1)\n",
        "contextily.add_basemap(ax)\n",
        "plt.show()"
      ],
      "metadata": {
        "id": "EjuzhwZJZjia"
      },
      "execution_count": null,
      "outputs": []
    },
    {
      "cell_type": "markdown",
      "source": [
        "## Eplore the Paris districts\n",
        "In this exercise, we introduce a next dataset about Paris: the administrative districts of Paris (compiled from a Paris Data open dataset).\n",
        "\n",
        "The dataset is available as a GeoPackage file, a specialised format to store geospatial vector data, and such a file can be read by GeoPandas using the geopandas.read_file() function.\n",
        "\n",
        "To get a first idea of the dataset, we can inspect the first rows with head() and do a quick visualization with `plot(). The attribute information about the districts included in the dataset is the district name and the population (total number of inhabitants of each district)."
      ],
      "metadata": {
        "id": "YT04U67JYNYw"
      }
    },
    {
      "cell_type": "code",
      "source": [
        "# Import GeoPandas\n",
        "import geopandas\n",
        "\n",
        "# Read the Paris districts dataset\n",
        "districts = geopandas.read_file('paris_districts.gpkg')\n",
        "\n",
        "# Inspect the first rows\n",
        "print(districts.head())\n",
        "\n",
        "# Make a quick visualization of the districts\n",
        "districts.plot()\n",
        "plt.show()\n",
        "\n",
        "# Check what kind of object districts is\n",
        "print(type(districts))\n",
        "\n",
        "# Check the type of the geometry attribute\n",
        "print(type(districts.geometry))\n",
        "\n",
        "# Inspect the first rows of the geometry\n",
        "print(districts.geometry.head())\n",
        "\n",
        "# Inspect the area of the districts\n",
        "print(districts.area)"
      ],
      "metadata": {
        "id": "O-NMydcbYOwq"
      },
      "execution_count": null,
      "outputs": []
    },
    {
      "cell_type": "markdown",
      "source": [
        "## The Paris restaurants as a GeoDataFrame\n",
        "In the first coding exercise of this chapter, we imported the locations of the restaurants in Paris from a csv file. To enable the geospatial functionality of GeoPandas, we want to convert the pandas DataFrame to a GeoDataFrame. This can be done with the GeoDataFrame() constructor and the geopandas.points_from_xy() function, and is done for you.\n",
        "\n",
        "Now we have a GeoDataFrame, all spatial functionality becomes available, such as plotting the geometries. In this exercise we will make the same figure as in the first exercise with the restaurants dataset, but now using the GeoDataFrame's plot() method.\n",
        "\n",
        "Pandas has been imported as pd, GeoPandas as geopandas and matplotlib's pyplot functionality as plt.\n",
        "\n"
      ],
      "metadata": {
        "id": "8REayR1OYQoj"
      }
    },
    {
      "cell_type": "code",
      "source": [
        "# Read the restaurants csv file into a DataFrame\n",
        "df = pd.read_csv(\"paris_restaurants.csv\")\n",
        "\n",
        "# Convert it to a GeoDataFrame\n",
        "restaurants = geopandas.GeoDataFrame(df, geometry=geopandas.points_from_xy(df.x, df.y))\n",
        "\n",
        "# Inspect the first rows of the restaurants GeoDataFrame\n",
        "print(restaurants.head())\n",
        "\n",
        "# Make a plot of the restaurants\n",
        "ax = restaurants.plot(markersize=1)\n",
        "import contextily\n",
        "contextily.add_basemap(ax)\n",
        "plt.show()"
      ],
      "metadata": {
        "id": "KVo58AzoYTZK"
      },
      "execution_count": null,
      "outputs": []
    },
    {
      "cell_type": "markdown",
      "source": [
        "## New"
      ],
      "metadata": {
        "id": "LEglRHTBYUJj"
      }
    },
    {
      "cell_type": "code",
      "source": [],
      "metadata": {
        "id": "gTw5W6hbYUdD"
      },
      "execution_count": null,
      "outputs": []
    }
  ]
}